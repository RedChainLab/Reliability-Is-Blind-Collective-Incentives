{
 "cells": [
  {
   "cell_type": "markdown",
   "metadata": {},
   "source": [
    "# Finding the ideal parameters to ensure a given QoS\n",
    "\n",
    "## Net Loss Per Task\n",
    "The net loss per task ($L_{\\text{net}}$) is given by:\n",
    "$$\n",
    "L_{\\text{net}} = F \\cdot P - (1 - F) \\cdot R_r\n",
    "$$\n",
    "where:\n",
    "- $F$ is the overall task failure rate.\n",
    "- $P$ is the penalty per task failure.\n",
    "- $R_r$ is the recovery per successful task.\n",
    "\n",
    "### Inequality for Losing Money\n",
    "A user is not losing / earning money if $L_{\\text{net}} \\leq 0$. Therefore, the inequality we need to solve is:\n",
    "$$\n",
    "F \\cdot P - (1 - F) \\cdot R_r \\leq 0\n",
    "$$\n",
    "\n",
    "### Solving the Inequality\n",
    "1. Expand the inequality:\n",
    "   $$\n",
    "   F \\cdot P - R_r + F \\cdot R_r \\leq 0\n",
    "   $$\n",
    "2. Combine like terms:\n",
    "   $$ \n",
    "   F(P + R_r) - R_r \\leq 0 \n",
    "   $$\n",
    "3. Isolate $F$:\n",
    "   $$ \n",
    "   F(P + R_r) \\leq R_r \n",
    "   $$\n",
    "   $$ \n",
    "   F \\leq \\frac{R_r}{P + R_r} \n",
    "   $$\n",
    "\n",
    "## System reliabilty depending of failure rate"
   ]
  }
 ],
 "metadata": {
  "language_info": {
   "name": "python"
  }
 },
 "nbformat": 4,
 "nbformat_minor": 2
}
