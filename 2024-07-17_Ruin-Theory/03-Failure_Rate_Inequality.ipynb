{
 "cells": [
  {
   "cell_type": "markdown",
   "metadata": {},
   "source": [
    "# Finding the ideal parameters to ensure a given QoS\n",
    "\n",
    "## Net Loss Per Task\n",
    "The net loss per task ($L_{\\text{net}}$) is given by:\n",
    "$$\n",
    "L_{\\text{net}} = F \\cdot P - (1 - F) \\cdot R\n",
    "$$\n",
    "where:\n",
    "- $F$ is the task failure rate.\n",
    "- $P$ is the penalty per task failure.\n",
    "- $R$ is the recovery per successful task.\n",
    "\n",
    "### Inequality for Losing Money\n",
    "A user is not losing / earning money if $L_{\\text{net}} \\leq 0$. Therefore, the inequality we need to solve is:\n",
    "$$\n",
    "F \\cdot P - (1 - F) \\cdot R \\leq 0\n",
    "$$\n",
    "\n",
    "### Solving the Inequality\n",
    "1. Expand the inequality:\n",
    "   $$\n",
    "   F \\cdot P - R + F \\cdot R \\leq 0\n",
    "   $$\n",
    "2. Combine like terms:\n",
    "   $$ \n",
    "   F(P + R) - R \\leq 0 \n",
    "   $$\n",
    "3. Isolate $F$:\n",
    "   $$ \n",
    "   F(P + R) \\leq R \n",
    "   $$\n",
    "   $$ \n",
    "   F \\leq \\frac{R}{P + R} \n",
    "   $$\n",
    "\n",
    "This means that for a chosen treshold corresponding to $\\frac{R}{P + R}$, users with a Failure Rate under that treshold will prosper whereas users above will loose money and eventually be bankrupted out of the system."
   ]
  }
 ],
 "metadata": {
  "language_info": {
   "name": "python"
  }
 },
 "nbformat": 4,
 "nbformat_minor": 2
}
