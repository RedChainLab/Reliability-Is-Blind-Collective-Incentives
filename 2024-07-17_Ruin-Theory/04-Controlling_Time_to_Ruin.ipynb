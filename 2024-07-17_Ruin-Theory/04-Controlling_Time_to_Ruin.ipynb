{
 "cells": [
  {
   "cell_type": "markdown",
   "metadata": {},
   "source": [
    "# Controlling the time to ruin\n",
    "\n",
    "Considering that the time to ruin is calculated as follow:  \n",
    "\n",
    "$$ T = \\frac{S_0}{L_{net}} = \\frac{S_0}{F \\times P - (1 - F) \\times R} $$\n",
    "\n",
    "Modifying the initial stake could allow us to modify the time to ruin. But once a user stakes money he shouldn't be able to decrease or increase his stake by himself, so that would be an impractical way to do it.  \n",
    "\n",
    "So we need to increase or decrease $L_{net}$ to decrease or increase the time to ruin.  \n",
    "\n",
    "$L_{net}$ can be considered as an affine function representing the loss of a user per task as a function of their failure rate.  \n",
    "It is negative between 0 and $F_t$ (because users should not lose money if they engage in transactions that fail at this ratio), otherwise, it is positive and increasing between $F_t$ and $\\infty$.  \n",
    "We want to accentuate the slope of the function so that the higher the failure rate $F$, the greater the loss, and thus the shorter the time to ruin:  \n",
    "\n",
    "$$ L_{net}(x) = x \\times P - (1 - x) \\times R $$\n",
    "\n",
    "Let's develop this:\n",
    "$$ L_{net}(x) = xP - (1 - x)R $$\n",
    "$$ L_{net}(x) = xP - R + xR $$\n",
    "$$ L_{net}(x) = xP + xR - R $$\n",
    "$$ L_{net}(x) = x(P + R) - R $$\n",
    "\n",
    "So, the developed function is:\n",
    "\n",
    "$$ L_{net}(x) = x(P + R) - R $$\n",
    "\n",
    "To accentuate the slope of the function, we can multiply the coefficient $ P + R $ by a factor $ k > 1 $:\n",
    "\n",
    "$$ L_{net}(x) = x \\times k(P + R) - R $$\n",
    "\n",
    "Thus, as the failure rate $ x $ increases, the loss becomes more significant more rapidly. This meets your requirement to make the time to ruin shorter as the failure rate increases.\n"
   ]
  },
  {
   "cell_type": "markdown",
   "metadata": {},
   "source": [
    "However in our situation, we cannot simply add k.  Our only field of action is penalty $P$ and recovery $R$. And we do not want to change R as it is the tipping point to a profitable task execution.  \n",
    "\n",
    "We are actually noticing that change the slope of our function will have an impact on the overall system failure rate which is not desirable. We need to be able to change the time to ruin without changing the failure rate below which it is profitable to operate.  "
   ]
  }
 ],
 "metadata": {
  "kernelspec": {
   "display_name": ".venv",
   "language": "python",
   "name": "python3"
  },
  "language_info": {
   "name": "python",
   "version": "3.12.3"
  }
 },
 "nbformat": 4,
 "nbformat_minor": 2
}
