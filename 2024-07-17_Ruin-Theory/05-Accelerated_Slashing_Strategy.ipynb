{
 "cells": [
  {
   "cell_type": "markdown",
   "metadata": {},
   "source": [
    "# Controlling the acceleration of the slashing strategy\n",
    "\n",
    "Previously, we used an affine function to gauge the impact of our slashing on actors based on their individual failure rates. However, it might be more effective to implement a quadratic or even exponential function. This would rapidly eliminate actors who repeatedly fail, and allow those with fewer errors more time to adjust their strategies and become profitable.\n",
    "\n",
    "For that purpose we need to find out which slash to apply based on wether it is a repeated offense or not.  \n",
    "Intuitively, I think that the state of the user slash is a good indication of wether he has been acting bad lately or not. If a lot of money has already been slashed it means the user keeps behaving in a non desirable way. We should slash him harder to deter him of continuing."
   ]
  }
 ],
 "metadata": {
  "kernelspec": {
   "display_name": ".venv",
   "language": "python",
   "name": "python3"
  },
  "language_info": {
   "codemirror_mode": {
    "name": "ipython",
    "version": 3
   },
   "file_extension": ".py",
   "mimetype": "text/x-python",
   "name": "python",
   "nbconvert_exporter": "python",
   "pygments_lexer": "ipython3",
   "version": "3.12.3"
  }
 },
 "nbformat": 4,
 "nbformat_minor": 2
}
